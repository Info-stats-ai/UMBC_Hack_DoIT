{
 "cells": [
  {
   "cell_type": "code",
   "execution_count": 4,
   "id": "d9dd4c33",
   "metadata": {},
   "outputs": [
    {
     "name": "stdout",
     "output_type": "stream",
     "text": [
      "Requirement already satisfied: neo4j in /Users/omkarthakur/Desktop/DOit_UMBC/.venv/lib/python3.10/site-packages (5.28.2)\n",
      "Requirement already satisfied: pytz in /Users/omkarthakur/Desktop/DOit_UMBC/.venv/lib/python3.10/site-packages (from neo4j) (2025.2)\n"
     ]
    }
   ],
   "source": [
    "!pip install neo4j"
   ]
  },
  {
   "cell_type": "code",
   "execution_count": 11,
   "id": "40fd122c",
   "metadata": {},
   "outputs": [
    {
     "name": "stderr",
     "output_type": "stream",
     "text": [
      "INFO:__main__:Successfully connected to Neo4j database.\n"
     ]
    }
   ],
   "source": [
    "#Data Loading\n",
    "\n",
    "import logging\n",
    "from neo4j import GraphDatabase\n",
    "\n",
    "# Configure logging\n",
    "logging.basicConfig(level=logging.INFO)\n",
    "logger = logging.getLogger(__name__)\n",
    "\n",
    "# Neo4j local connection details\n",
    "NEO4J_URI = \"neo4j://127.0.0.1:7687\"  # Updated to match your instance\n",
    "NEO4J_USER = \"neo4j\"\n",
    "NEO4J_PASSWORD = \"Iwin@27100\"  # Password for umbc-test database\n",
    "\n",
    "# Connect to Neo4j\n",
    "try:\n",
    "    driver = GraphDatabase.driver(NEO4J_URI, auth=(NEO4J_USER, NEO4J_PASSWORD))\n",
    "    logger.info(\"Successfully connected to Neo4j database.\")\n",
    "except Exception as e:\n",
    "    logger.error(f\"Failed to connect to Neo4j: {e}\")\n",
    "    driver = None\n"
   ]
  },
  {
   "cell_type": "code",
   "execution_count": 12,
   "id": "9c2def4a",
   "metadata": {},
   "outputs": [
    {
     "name": "stdout",
     "output_type": "stream",
     "text": [
      "Node Types and Counts in 'smalldata' database:\n",
      "----------------------------------------\n",
      "Course: 50\n",
      "RequirementGroup: 12\n",
      "Student: 10\n",
      "Degree: 4\n",
      "Faculty: 2\n",
      "Term: 2\n",
      "\n",
      "Total nodes: 80\n"
     ]
    }
   ],
   "source": [
    "# Check what nodes exist in the database\n",
    "def check_database_nodes(driver, database=\"umbc-test\"):\n",
    "    with driver.session(database=database) as session:\n",
    "        # Get all node labels and counts\n",
    "        result = session.run(\"\"\"\n",
    "            MATCH (n) \n",
    "            RETURN labels(n) as NodeType, count(n) as Count\n",
    "            ORDER BY Count DESC\n",
    "        \"\"\")\n",
    "        \n",
    "        print(f\"Node Types and Counts in '{database}' database:\")\n",
    "        print(\"-\" * 40)\n",
    "        for record in result:\n",
    "            node_type = ', '.join(record[\"NodeType\"])\n",
    "            count = record[\"Count\"]\n",
    "            print(f\"{node_type}: {count}\")\n",
    "        \n",
    "        # Get total node count\n",
    "        total_result = session.run(\"MATCH (n) RETURN count(n) as total\")\n",
    "        total = total_result.single()[\"total\"]\n",
    "        print(f\"\\nTotal nodes: {total}\")\n",
    "\n",
    "# Run the check on neo4j database (where your nodes actually are)\n",
    "if driver:\n",
    "    check_database_nodes(driver, \"smalldata\")\n",
    "else:\n",
    "    print(\"No database connection available\")"
   ]
  },
  {
   "cell_type": "code",
   "execution_count": null,
   "id": "0011dd15",
   "metadata": {},
   "outputs": [],
   "source": []
  }
 ],
 "metadata": {
  "kernelspec": {
   "display_name": ".venv",
   "language": "python",
   "name": "python3"
  },
  "language_info": {
   "codemirror_mode": {
    "name": "ipython",
    "version": 3
   },
   "file_extension": ".py",
   "mimetype": "text/x-python",
   "name": "python",
   "nbconvert_exporter": "python",
   "pygments_lexer": "ipython3",
   "version": "3.10.18"
  }
 },
 "nbformat": 4,
 "nbformat_minor": 5
}

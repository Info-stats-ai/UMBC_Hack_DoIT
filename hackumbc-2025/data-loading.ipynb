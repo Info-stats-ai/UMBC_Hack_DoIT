{
 "cells": [
  {
   "cell_type": "code",
   "execution_count": 2,
   "id": "d9dd4c33",
   "metadata": {},
   "outputs": [
    {
     "name": "stdout",
     "output_type": "stream",
     "text": [
      "Collecting neo4j\n",
      "  Downloading neo4j-5.28.2-py3-none-any.whl.metadata (5.9 kB)\n",
      "Requirement already satisfied: pytz in c:\\users\\proto\\appdata\\local\\programs\\python\\python312\\lib\\site-packages (from neo4j) (2024.2)\n",
      "Downloading neo4j-5.28.2-py3-none-any.whl (313 kB)\n",
      "Installing collected packages: neo4j\n",
      "Successfully installed neo4j-5.28.2\n"
     ]
    },
    {
     "name": "stderr",
     "output_type": "stream",
     "text": [
      "WARNING: Retrying (Retry(total=4, connect=None, read=None, redirect=None, status=None)) after connection broken by 'ProtocolError('Connection aborted.', ConnectionResetError(10054, 'An existing connection was forcibly closed by the remote host', None, 10054, None))': /simple/neo4j/\n",
      "  WARNING: Retrying (Retry(total=4, connect=None, read=None, redirect=None, status=None)) after connection broken by 'ProtocolError('Connection aborted.', ConnectionResetError(10054, 'An existing connection was forcibly closed by the remote host', None, 10054, None))': /packages/04/00/1f74089c06aec1fac9390e2300a6a6b2381e0dac281783d64ccca9d681fd/neo4j-5.28.2-py3-none-any.whl.metadata\n"
     ]
    }
   ],
   "source": [
    "!pip install neo4j"
   ]
  },
  {
   "cell_type": "code",
   "execution_count": 2,
   "id": "40fd122c",
   "metadata": {},
   "outputs": [
    {
     "name": "stderr",
     "output_type": "stream",
     "text": [
      "INFO:__main__:Successfully connected to Neo4j database.\n"
     ]
    }
   ],
   "source": [
    "#Data Loading\n",
    "\n",
    "import logging\n",
    "from neo4j import GraphDatabase\n",
    "\n",
    "# Configure logging\n",
    "logging.basicConfig(level=logging.INFO)\n",
    "logger = logging.getLogger(__name__)\n",
    "\n",
    "# Neo4j local connection details\n",
    "NEO4J_URI = \"neo4j://127.0.0.1:7687\"  # Updated to match your instance\n",
    "NEO4J_USER = \"neo4j\"\n",
    "NEO4J_PASSWORD = \"umbctest123\"  # Password for umbc-test database\n",
    "\n",
    "# Connect to Neo4j\n",
    "try:\n",
    "    driver = GraphDatabase.driver(NEO4J_URI, auth=(NEO4J_USER, NEO4J_PASSWORD))\n",
    "    logger.info(\"Successfully connected to Neo4j database.\")\n",
    "except Exception as e:\n",
    "    logger.error(f\"Failed to connect to Neo4j: {e}\")\n",
    "    driver = None\n"
   ]
  },
  {
   "cell_type": "code",
   "execution_count": 3,
   "id": "9c2def4a",
   "metadata": {},
   "outputs": [
    {
     "name": "stdout",
     "output_type": "stream",
     "text": [
      "Node Types and Counts in 'neo4j' database:\n",
      "----------------------------------------\n",
      "Course: 50\n",
      "RequirementGroup: 12\n",
      "Student: 10\n",
      "Degree: 4\n",
      "Faculty: 2\n",
      "Term: 2\n",
      "\n",
      "Total nodes: 80\n"
     ]
    }
   ],
   "source": [
    "# Check what nodes exist in the database\n",
    "def check_database_nodes(driver, database=\"umbc-test\"):\n",
    "    with driver.session(database=database) as session:\n",
    "        # Get all node labels and counts\n",
    "        result = session.run(\"\"\"\n",
    "            MATCH (n) \n",
    "            RETURN labels(n) as NodeType, count(n) as Count\n",
    "            ORDER BY Count DESC\n",
    "        \"\"\")\n",
    "        \n",
    "        print(f\"Node Types and Counts in '{database}' database:\")\n",
    "        print(\"-\" * 40)\n",
    "        for record in result:\n",
    "            node_type = ', '.join(record[\"NodeType\"])\n",
    "            count = record[\"Count\"]\n",
    "            print(f\"{node_type}: {count}\")\n",
    "        \n",
    "        # Get total node count\n",
    "        total_result = session.run(\"MATCH (n) RETURN count(n) as total\")\n",
    "        total = total_result.single()[\"total\"]\n",
    "        print(f\"\\nTotal nodes: {total}\")\n",
    "\n",
    "# Run the check on neo4j database (where your nodes actually are)\n",
    "if driver:\n",
    "    check_database_nodes(driver, \"neo4j\")\n",
    "else:\n",
    "    print(\"No database connection available\")"
   ]
  },
  {
   "cell_type": "code",
   "execution_count": 4,
   "id": "c1cdf94f",
   "metadata": {},
   "outputs": [
    {
     "name": "stdout",
     "output_type": "stream",
     "text": [
      "Relationship Types and Counts:\n",
      "========================================\n",
      "🔗 SIMILAR_CONTENT: 472\n",
      "🔗 SIMILAR_DIFFICULTY: 372\n",
      "🔗 LEADS_TO: 114\n",
      "🔗 FULFILLS: 79\n",
      "🔗 TEACHES: 71\n",
      "🔗 OFFERED_IN: 62\n",
      "🔗 PREREQUISITE_FOR: 33\n",
      "🔗 COMPLETED: 25\n",
      "🔗 ENROLLED_IN: 24\n",
      "🔗 SIMILAR_LEARNING_STYLE: 18\n",
      "🔗 PART_OF: 12\n",
      "🔗 PURSUING: 11\n",
      "\n",
      "🎯 Total relationships: 1293\n",
      "\n",
      "✅ Found 1293 relationships!\n",
      "\n",
      "📋 Sample relationships:\n",
      "  • Unknown(No ID) -[PURSUING]-> Unknown(No ID)\n",
      "  • Unknown(No ID) -[COMPLETED]-> Unknown(No ID)\n",
      "  • Unknown(No ID) -[COMPLETED]-> Unknown(No ID)\n",
      "  • Unknown(No ID) -[COMPLETED]-> Unknown(No ID)\n",
      "  • Unknown(No ID) -[COMPLETED]-> Unknown(No ID)\n"
     ]
    }
   ],
   "source": [
    "# Check relationships in your database\n",
    "def check_relationships(driver):\n",
    "    with driver.session(database=\"neo4j\") as session:\n",
    "        # Get relationship types and counts\n",
    "        result = session.run(\"\"\"\n",
    "            MATCH ()-[r]->() \n",
    "            RETURN type(r) as RelationshipType, count(r) as Count\n",
    "            ORDER BY Count DESC\n",
    "        \"\"\")\n",
    "        \n",
    "        print(\"Relationship Types and Counts:\")\n",
    "        print(\"=\" * 40)\n",
    "        total_relationships = 0\n",
    "        for record in result:\n",
    "            rel_type = record[\"RelationshipType\"]\n",
    "            count = record[\"Count\"]\n",
    "            total_relationships += count\n",
    "            print(f\"🔗 {rel_type}: {count}\")\n",
    "        \n",
    "        print(f\"\\n🎯 Total relationships: {total_relationships}\")\n",
    "        \n",
    "        if total_relationships == 0:\n",
    "            print(\"\\n⚠️  No relationships found! You need to import relationship files 08-17.\")\n",
    "        else:\n",
    "            print(f\"\\n✅ Found {total_relationships} relationships!\")\n",
    "            \n",
    "            # Show sample relationships\n",
    "            print(f\"\\n📋 Sample relationships:\")\n",
    "            sample_result = session.run(\"MATCH ()-[r]->() RETURN r LIMIT 5\")\n",
    "            for record in sample_result:\n",
    "                rel = record[\"r\"]\n",
    "                rel_type = rel.type\n",
    "                start_node = rel.start_node\n",
    "                end_node = rel.end_node\n",
    "                start_label = list(start_node.labels)[0] if start_node.labels else \"Unknown\"\n",
    "                end_label = list(end_node.labels)[0] if end_node.labels else \"Unknown\"\n",
    "                start_id = start_node.get('id', start_node.get('name', 'No ID'))\n",
    "                end_id = end_node.get('id', end_node.get('name', 'No ID'))\n",
    "                print(f\"  • {start_label}({start_id}) -[{rel_type}]-> {end_label}({end_id})\")\n",
    "\n",
    "# Check relationships\n",
    "if driver:\n",
    "    check_relationships(driver)\n",
    "else:\n",
    "    print(\"❌ No database connection available\")\n"
   ]
  },
  {
   "cell_type": "code",
   "execution_count": 5,
   "id": "55212f28",
   "metadata": {},
   "outputs": [
    {
     "name": "stdout",
     "output_type": "stream",
     "text": [
      "🔍 Detailed Relationship Examples:\n",
      "==================================================\n",
      " 1. Student(ZO28124) -[PURSUING]-> Degree(BA-ComputerScience-2)\n",
      " 2. Student(ZO28124) -[COMPLETED]-> Course(CSEE 200)\n",
      " 3. Student(ZO28124) -[COMPLETED]-> Course(CSLL 100-6)\n",
      " 4. Student(ZO28124) -[COMPLETED]-> Course(BUUU 100)\n",
      " 5. Student(ZO28124) -[COMPLETED]-> Course(BOOO 100-5)\n",
      " 6. Student(ZO28124) -[ENROLLED_IN]-> Course(CSEE 100)\n",
      " 7. Student(ZO28124) -[ENROLLED_IN]-> Course(CSZZ 200)\n",
      " 8. Student(ZO28124) -[SIMILAR_LEARNING_STYLE]-> Student(WC43955)\n",
      " 9. Student(WS68513) -[PURSUING]-> Degree(BA-ComputerScience-2)\n",
      "10. Student(WS68513) -[ENROLLED_IN]-> Course(CSSS 200)\n"
     ]
    }
   ],
   "source": [
    "# Better relationship viewer with actual node details\n",
    "def show_detailed_relationships(driver, limit=10):\n",
    "    with driver.session(database=\"neo4j\") as session:\n",
    "        print(\"🔍 Detailed Relationship Examples:\")\n",
    "        print(\"=\" * 50)\n",
    "        \n",
    "        # Get sample relationships with actual node details\n",
    "        result = session.run(f\"\"\"\n",
    "            MATCH (start)-[r]->(end)\n",
    "            RETURN \n",
    "                labels(start)[0] as StartType,\n",
    "                start.id as StartID,\n",
    "                type(r) as RelationshipType,\n",
    "                labels(end)[0] as EndType,\n",
    "                end.id as EndID\n",
    "            LIMIT {limit}\n",
    "        \"\"\")\n",
    "        \n",
    "        for i, record in enumerate(result, 1):\n",
    "            start_type = record[\"StartType\"]\n",
    "            start_id = record[\"StartID\"]\n",
    "            rel_type = record[\"RelationshipType\"]\n",
    "            end_type = record[\"EndType\"]\n",
    "            end_id = record[\"EndID\"]\n",
    "            \n",
    "            print(f\"{i:2d}. {start_type}({start_id}) -[{rel_type}]-> {end_type}({end_id})\")\n",
    "\n",
    "# Show detailed relationships\n",
    "if driver:\n",
    "    show_detailed_relationships(driver)\n",
    "else:\n",
    "    print(\"❌ No database connection available\")\n"
   ]
  },
  {
   "cell_type": "code",
   "execution_count": 6,
   "id": "4a716759",
   "metadata": {},
   "outputs": [
    {
     "name": "stdout",
     "output_type": "stream",
     "text": [
      "✅ Query helper functions ready!\n",
      "\n",
      "Available functions:\n",
      "- queries.get_student_info(student_id)\n",
      "- queries.get_course_recommendations(student_id)\n",
      "- queries.find_similar_students(student_id)\n"
     ]
    }
   ],
   "source": [
    "# Useful query functions for your hackathon application\n",
    "class Neo4jQueries:\n",
    "    def __init__(self, driver):\n",
    "        self.driver = driver\n",
    "    \n",
    "    def get_student_info(self, student_id):\n",
    "        \"\"\"Get complete information about a student\"\"\"\n",
    "        with self.driver.session(database=\"neo4j\") as session:\n",
    "            result = session.run(\"\"\"\n",
    "                MATCH (s:Student {id: $student_id})\n",
    "                OPTIONAL MATCH (s)-[:PURSUING]->(d:Degree)\n",
    "                OPTIONAL MATCH (s)-[:COMPLETED]->(c:Course)\n",
    "                OPTIONAL MATCH (s)-[:ENROLLED_IN]->(e:Course)\n",
    "                RETURN s, d, collect(DISTINCT c) as completed_courses, \n",
    "                       collect(DISTINCT e) as enrolled_courses\n",
    "            \"\"\", student_id=student_id)\n",
    "            \n",
    "            record = result.single()\n",
    "            if record:\n",
    "                student = record[\"s\"]\n",
    "                degree = record[\"d\"]\n",
    "                completed = record[\"completed_courses\"]\n",
    "                enrolled = record[\"enrolled_courses\"]\n",
    "                \n",
    "                print(f\"🎓 Student: {student.get('name', 'Unknown')} ({student_id})\")\n",
    "                print(f\"📚 Degree: {degree.get('name', 'None') if degree else 'None'}\")\n",
    "                print(f\"✅ Completed Courses: {len([c for c in completed if c])}\")\n",
    "                print(f\"📖 Currently Enrolled: {len([e for e in enrolled if e])}\")\n",
    "                return {\n",
    "                    'student': dict(student),\n",
    "                    'degree': dict(degree) if degree else None,\n",
    "                    'completed_courses': [dict(c) for c in completed if c],\n",
    "                    'enrolled_courses': [dict(e) for e in enrolled if e]\n",
    "                }\n",
    "            return None\n",
    "    \n",
    "    def get_course_recommendations(self, student_id, limit=5):\n",
    "        \"\"\"Get course recommendations based on completed courses\"\"\"\n",
    "        with self.driver.session(database=\"neo4j\") as session:\n",
    "            result = session.run(\"\"\"\n",
    "                MATCH (s:Student {id: $student_id})-[:COMPLETED]->(completed:Course)\n",
    "                MATCH (completed)-[:LEADS_TO]->(recommended:Course)\n",
    "                WHERE NOT (s)-[:COMPLETED]->(recommended)\n",
    "                AND NOT (s)-[:ENROLLED_IN]->(recommended)\n",
    "                RETURN DISTINCT recommended.id as course_id, \n",
    "                       recommended.name as course_name,\n",
    "                       count(*) as strength\n",
    "                ORDER BY strength DESC\n",
    "                LIMIT $limit\n",
    "            \"\"\", student_id=student_id, limit=limit)\n",
    "            \n",
    "            recommendations = []\n",
    "            for record in result:\n",
    "                recommendations.append({\n",
    "                    'course_id': record[\"course_id\"],\n",
    "                    'course_name': record[\"course_name\"],\n",
    "                    'strength': record[\"strength\"]\n",
    "                })\n",
    "            return recommendations\n",
    "    \n",
    "    def find_similar_students(self, student_id, limit=5):\n",
    "        \"\"\"Find students with similar learning styles\"\"\"\n",
    "        with self.driver.session(database=\"neo4j\") as session:\n",
    "            result = session.run(\"\"\"\n",
    "                MATCH (s1:Student {id: $student_id})-[:SIMILAR_LEARNING_STYLE]-(s2:Student)\n",
    "                RETURN s2.id as student_id, s2.name as name\n",
    "                LIMIT $limit\n",
    "            \"\"\", student_id=student_id, limit=limit)\n",
    "            \n",
    "            similar_students = []\n",
    "            for record in result:\n",
    "                similar_students.append({\n",
    "                    'student_id': record[\"student_id\"],\n",
    "                    'name': record[\"name\"]\n",
    "                })\n",
    "            return similar_students\n",
    "\n",
    "# Create query helper instance\n",
    "if driver:\n",
    "    queries = Neo4jQueries(driver)\n",
    "    print(\"✅ Query helper functions ready!\")\n",
    "    print(\"\\nAvailable functions:\")\n",
    "    print(\"- queries.get_student_info(student_id)\")\n",
    "    print(\"- queries.get_course_recommendations(student_id)\")\n",
    "    print(\"- queries.find_similar_students(student_id)\")\n",
    "else:\n",
    "    print(\"❌ No database connection available\")\n"
   ]
  },
  {
   "cell_type": "code",
   "execution_count": 9,
   "id": "b7f8c691",
   "metadata": {},
   "outputs": [
    {
     "name": "stdout",
     "output_type": "stream",
     "text": [
      "[{'course_id': 'CSDD 300', 'course_name': 'Computer Architecture I', 'strength': 2}, {'course_id': 'CSWW 300', 'course_name': 'Computer Networks Analysis', 'strength': 1}, {'course_id': 'CSRR 200', 'course_name': 'DevOps', 'strength': 1}, {'course_id': 'CSUU 200', 'course_name': 'Edge Computing', 'strength': 1}, {'course_id': 'CSVV 300', 'course_name': 'Data Structures Analysis', 'strength': 1}]\n"
     ]
    }
   ],
   "source": [
    "if driver:\n",
    "    recommendations = queries.get_course_recommendations(\"ZO28124\")\n",
    "    print(recommendations)"
   ]
  },
  {
   "cell_type": "code",
   "execution_count": null,
   "id": "dbdf9123",
   "metadata": {},
   "outputs": [
    {
     "name": "stdout",
     "output_type": "stream",
     "text": [
      "🧪 Testing Query Functions\n",
      "========================================\n",
      "\n",
      "1️⃣ Student Information:\n",
      "🎓 Student: Christine Thomas (ZO28124)\n",
      "📚 Degree: Bachelor of Arts in Computer Science\n",
      "✅ Completed Courses: 4\n",
      "📖 Currently Enrolled: 2\n",
      "\n",
      "2️⃣ Course Recommendations:\n"
     ]
    },
    {
     "ename": "KeyError",
     "evalue": "'title'",
     "output_type": "error",
     "traceback": [
      "\u001b[31m---------------------------------------------------------------------------\u001b[39m",
      "\u001b[31mKeyError\u001b[39m                                  Traceback (most recent call last)",
      "\u001b[36mCell\u001b[39m\u001b[36m \u001b[39m\u001b[32mIn[8]\u001b[39m\u001b[32m, line 15\u001b[39m\n\u001b[32m     13\u001b[39m \u001b[38;5;28;01mif\u001b[39;00m recommendations:\n\u001b[32m     14\u001b[39m     \u001b[38;5;28;01mfor\u001b[39;00m i, rec \u001b[38;5;129;01min\u001b[39;00m \u001b[38;5;28menumerate\u001b[39m(recommendations, \u001b[32m1\u001b[39m):\n\u001b[32m---> \u001b[39m\u001b[32m15\u001b[39m         \u001b[38;5;28mprint\u001b[39m(\u001b[33mf\u001b[39m\u001b[33m\"\u001b[39m\u001b[33m   \u001b[39m\u001b[38;5;132;01m{\u001b[39;00mi\u001b[38;5;132;01m}\u001b[39;00m\u001b[33m. \u001b[39m\u001b[38;5;132;01m{\u001b[39;00mrec[\u001b[33m'\u001b[39m\u001b[33mcourse_id\u001b[39m\u001b[33m'\u001b[39m]\u001b[38;5;132;01m}\u001b[39;00m\u001b[33m: \u001b[39m\u001b[38;5;132;01m{\u001b[39;00m\u001b[43mrec\u001b[49m\u001b[43m[\u001b[49m\u001b[33;43m'\u001b[39;49m\u001b[33;43mtitle\u001b[39;49m\u001b[33;43m'\u001b[39;49m\u001b[43m]\u001b[49m\u001b[38;5;132;01m}\u001b[39;00m\u001b[33m (strength: \u001b[39m\u001b[38;5;132;01m{\u001b[39;00mrec[\u001b[33m'\u001b[39m\u001b[33mstrength\u001b[39m\u001b[33m'\u001b[39m]\u001b[38;5;132;01m}\u001b[39;00m\u001b[33m)\u001b[39m\u001b[33m\"\u001b[39m)\n\u001b[32m     16\u001b[39m \u001b[38;5;28;01melse\u001b[39;00m:\n\u001b[32m     17\u001b[39m     \u001b[38;5;28mprint\u001b[39m(\u001b[33m\"\u001b[39m\u001b[33m   No recommendations found\u001b[39m\u001b[33m\"\u001b[39m)\n",
      "\u001b[31mKeyError\u001b[39m: 'title'"
     ]
    }
   ],
   "source": [
    "# Demo: Test the query functions with student ZO28124\n",
    "if driver:\n",
    "    print(\"🧪 Testing Query Functions\")\n",
    "    print(\"=\" * 40)\n",
    "    \n",
    "    # Test student info\n",
    "    print(\"\\n1️⃣ Student Information:\")\n",
    "    student_info = queries.get_student_info(\"ZO28124\")\n",
    "    \n",
    "    # Test course recommendations\n",
    "    print(\"\\n2️⃣ Course Recommendations:\")\n",
    "    recommendations = queries.get_course_recommendations(\"ZO28124\")\n",
    "    if recommendations:\n",
    "        for i, rec in enumerate(recommendations, 1):\n",
    "            print(f\"   {i}. {rec['course_id']}: {rec['course_name']} (strength: {rec['strength']})\")\n",
    "    else:\n",
    "        print(\"   No recommendations found\")\n",
    "    \n",
    "    # Test similar students\n",
    "    print(\"\\n3️⃣ Similar Students:\")\n",
    "    similar = queries.find_similar_students(\"ZO28124\")\n",
    "    if similar:\n",
    "        for student in similar:\n",
    "            print(f\"   • {student['name']} ({student['student_id']})\")\n",
    "    else:\n",
    "        print(\"   No similar students found\")\n",
    "        \n",
    "    print(\"\\n🎯 Your database is ready for hackathon development!\")\n",
    "else:\n",
    "    print(\"❌ No database connection available\")\n"
   ]
  },
  {
   "cell_type": "code",
   "execution_count": null,
   "id": "0011dd15",
   "metadata": {},
   "outputs": [],
   "source": []
  },
  {
   "cell_type": "code",
   "execution_count": null,
   "id": "66b51fb3",
   "metadata": {},
   "outputs": [],
   "source": []
  }
 ],
 "metadata": {
  "kernelspec": {
   "display_name": "Python 3",
   "language": "python",
   "name": "python3"
  },
  "language_info": {
   "codemirror_mode": {
    "name": "ipython",
    "version": 3
   },
   "file_extension": ".py",
   "mimetype": "text/x-python",
   "name": "python",
   "nbconvert_exporter": "python",
   "pygments_lexer": "ipython3",
   "version": "3.12.10"
  }
 },
 "nbformat": 4,
 "nbformat_minor": 5
}

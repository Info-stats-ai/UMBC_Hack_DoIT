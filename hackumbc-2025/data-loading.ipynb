{
 "cells": [
  {
   "cell_type": "code",
   "execution_count": 2,
   "id": "d9dd4c33",
   "metadata": {},
   "outputs": [
    {
     "name": "stdout",
     "output_type": "stream",
     "text": [
      "Collecting neo4j\n",
      "  Downloading neo4j-5.28.2-py3-none-any.whl.metadata (5.9 kB)\n",
      "Requirement already satisfied: pytz in c:\\users\\proto\\appdata\\local\\programs\\python\\python312\\lib\\site-packages (from neo4j) (2024.2)\n",
      "Downloading neo4j-5.28.2-py3-none-any.whl (313 kB)\n",
      "Installing collected packages: neo4j\n",
      "Successfully installed neo4j-5.28.2\n"
     ]
    },
    {
     "name": "stderr",
     "output_type": "stream",
     "text": [
      "WARNING: Retrying (Retry(total=4, connect=None, read=None, redirect=None, status=None)) after connection broken by 'ProtocolError('Connection aborted.', ConnectionResetError(10054, 'An existing connection was forcibly closed by the remote host', None, 10054, None))': /simple/neo4j/\n",
      "  WARNING: Retrying (Retry(total=4, connect=None, read=None, redirect=None, status=None)) after connection broken by 'ProtocolError('Connection aborted.', ConnectionResetError(10054, 'An existing connection was forcibly closed by the remote host', None, 10054, None))': /packages/04/00/1f74089c06aec1fac9390e2300a6a6b2381e0dac281783d64ccca9d681fd/neo4j-5.28.2-py3-none-any.whl.metadata\n"
     ]
    }
   ],
   "source": [
    "!pip install neo4j"
   ]
  },
  {
   "cell_type": "code",
   "execution_count": 17,
   "id": "40fd122c",
   "metadata": {},
   "outputs": [
    {
     "name": "stderr",
     "output_type": "stream",
     "text": [
      "INFO:__main__:Successfully connected to Neo4j database.\n"
     ]
    }
   ],
   "source": [
    "#Data Loading\n",
    "\n",
    "import logging\n",
    "from neo4j import GraphDatabase\n",
    "\n",
    "# Configure logging\n",
    "logging.basicConfig(level=logging.INFO)\n",
    "logger = logging.getLogger(__name__)\n",
    "\n",
    "# Neo4j local connection details\n",
    "NEO4J_URI = \"neo4j://127.0.0.1:7687\"  # Updated to match your instance\n",
    "NEO4J_USER = \"neo4j\"\n",
    "NEO4J_PASSWORD = \"umbctest123\"  # Password for umbc-test database\n",
    "\n",
    "# Connect to Neo4j\n",
    "try:\n",
    "    driver = GraphDatabase.driver(NEO4J_URI, auth=(NEO4J_USER, NEO4J_PASSWORD))\n",
    "    logger.info(\"Successfully connected to Neo4j database.\")\n",
    "except Exception as e:\n",
    "    logger.error(f\"Failed to connect to Neo4j: {e}\")\n",
    "    driver = None\n"
   ]
  },
  {
   "cell_type": "code",
   "execution_count": 18,
   "id": "9c2def4a",
   "metadata": {},
   "outputs": [
    {
     "name": "stdout",
     "output_type": "stream",
     "text": [
      "Node Types and Counts in 'neo4j' database:\n",
      "----------------------------------------\n",
      "Course: 50\n",
      "RequirementGroup: 12\n",
      "Student: 10\n",
      "Degree: 4\n",
      "Faculty: 2\n",
      "Term: 2\n",
      "\n",
      "Total nodes: 80\n"
     ]
    }
   ],
   "source": [
    "# Check what nodes exist in the database\n",
    "def check_database_nodes(driver, database=\"umbc-test\"):\n",
    "    with driver.session(database=database) as session:\n",
    "        # Get all node labels and counts\n",
    "        result = session.run(\"\"\"\n",
    "            MATCH (n) \n",
    "            RETURN labels(n) as NodeType, count(n) as Count\n",
    "            ORDER BY Count DESC\n",
    "        \"\"\")\n",
    "        \n",
    "        print(f\"Node Types and Counts in '{database}' database:\")\n",
    "        print(\"-\" * 40)\n",
    "        for record in result:\n",
    "            node_type = ', '.join(record[\"NodeType\"])\n",
    "            count = record[\"Count\"]\n",
    "            print(f\"{node_type}: {count}\")\n",
    "        \n",
    "        # Get total node count\n",
    "        total_result = session.run(\"MATCH (n) RETURN count(n) as total\")\n",
    "        total = total_result.single()[\"total\"]\n",
    "        print(f\"\\nTotal nodes: {total}\")\n",
    "\n",
    "# Run the check on neo4j database (where your nodes actually are)\n",
    "if driver:\n",
    "    check_database_nodes(driver, \"neo4j\")\n",
    "else:\n",
    "    print(\"No database connection available\")"
   ]
  },
  {
   "cell_type": "code",
   "execution_count": null,
   "id": "0011dd15",
   "metadata": {},
   "outputs": [],
   "source": []
  }
 ],
 "metadata": {
  "kernelspec": {
   "display_name": "Python 3",
   "language": "python",
   "name": "python3"
  },
  "language_info": {
   "codemirror_mode": {
    "name": "ipython",
    "version": 3
   },
   "file_extension": ".py",
   "mimetype": "text/x-python",
   "name": "python",
   "nbconvert_exporter": "python",
   "pygments_lexer": "ipython3",
   "version": "3.12.10"
  }
 },
 "nbformat": 4,
 "nbformat_minor": 5
}
